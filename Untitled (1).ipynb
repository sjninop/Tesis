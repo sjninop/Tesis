{
 "cells": [
  {
   "cell_type": "code",
   "execution_count": 1,
   "metadata": {},
   "outputs": [
    {
     "name": "stdout",
     "output_type": "stream",
     "text": [
      "¿Hasta qué número quieres la lista?: 150\n",
      "  2  3  5  7  11  13  17  19  23  29  31  37  41  43  47  53  59  61  67  71  73  79  83  89  97  101  103  107  109  113  127  131  137  139  149\n",
      "Hay 35 números primos.\n"
     ]
    }
   ],
   "source": [
    "lista = int(input('¿Hasta qué número quieres la lista?: '))\n",
    "cont = 0\n",
    "for i in range(2, lista + 1):\n",
    "    primos = True\n",
    "    for j in range(2,i):\n",
    "        if i == j:\n",
    "           break\n",
    "        elif i%j == 0:\n",
    "           primos = False\n",
    "        else:\n",
    "           continue\n",
    "    if primos == True:\n",
    "        print(' ',i, end='')\n",
    "        cont += 1\n",
    "print('\\nHay %u números primos.' % cont )"
   ]
  },
  {
   "cell_type": "code",
   "execution_count": null,
   "metadata": {},
   "outputs": [],
   "source": []
  }
 ],
 "metadata": {
  "kernelspec": {
   "display_name": "Python 3",
   "language": "python",
   "name": "python3"
  },
  "language_info": {
   "codemirror_mode": {
    "name": "ipython",
    "version": 3
   },
   "file_extension": ".py",
   "mimetype": "text/x-python",
   "name": "python",
   "nbconvert_exporter": "python",
   "pygments_lexer": "ipython3",
   "version": "3.8.5"
  }
 },
 "nbformat": 4,
 "nbformat_minor": 4
}
